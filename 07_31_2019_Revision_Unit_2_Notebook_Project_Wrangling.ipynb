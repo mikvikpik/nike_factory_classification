{
  "nbformat": 4,
  "nbformat_minor": 0,
  "metadata": {
    "colab": {
      "name": "07_31_2019 Revision Unit 2 Notebook Project Wrangling.ipynb",
      "version": "0.3.2",
      "provenance": [],
      "include_colab_link": true
    },
    "kernelspec": {
      "name": "python3",
      "display_name": "Python 3"
    }
  },
  "cells": [
    {
      "cell_type": "markdown",
      "metadata": {
        "id": "view-in-github",
        "colab_type": "text"
      },
      "source": [
        "<a href=\"https://colab.research.google.com/github/mikvikpik/nike_factory_classification/blob/master/07_31_2019_Revision_Unit_2_Notebook_Project_Wrangling.ipynb\" target=\"_parent\"><img src=\"https://colab.research.google.com/assets/colab-badge.svg\" alt=\"Open In Colab\"/></a>"
      ]
    },
    {
      "cell_type": "markdown",
      "metadata": {
        "id": "inAMWcrYNk74",
        "colab_type": "text"
      },
      "source": [
        "Initial idea is to present project as a classifying model that uses Factory Type as **Target Vector**.  To have discrete data and unique classifiers, China will be used as **Test Set**, and Vietnam will be used as the  **Validation Set**. The remaining data will be used as **Training Set** data. The importance of this data is to be able to find a model that fits to countries of high factory count and use that model to test accuracy score and percentage of distribution of target vector against countries of smaller factory count in order to determine factory growth in that country by using a country of data size smaller than China or Vietnam.\n",
        "\n",
        "\n",
        "As intial presenter, trainer, validator, tester, and further analyzer of the data set and model, importance remains with best practice and objectivity based on thorough self-examination to not skew or manipulate data in order to keep project free from bias.\n",
        "\n",
        "\n",
        "As presenter of data, and acting as collector and decider of relevant information to train and test, any geographic data will be removed from the set to begin the rest of the model process to provide best objectivity. \n",
        "\n",
        "Data will be cleaned by the presentor to verify usable data, discard unusable data, and impute values as based in best practice.\n",
        "\n",
        "\n",
        "As trainer, validator, and tester of the data, baseline analysis and visualizations will be used to further evaluate data in order to prepare for classification machine learning algorithm. This algorithm will be modeled to the train dataset to fit, validate, and test for best accuracy score, confusion matrix, and classification report. \n",
        "\n",
        "\n",
        "Further analyzation of data is to be hypothetical in nature and to present best countries and factory types to be built next based on the model and the metric report provided by the machine learning algorithm group."
      ]
    },
    {
      "cell_type": "markdown",
      "metadata": {
        "id": "PBuGw4ttNrz0",
        "colab_type": "text"
      },
      "source": [
        "<h1> <center><u>Collection and Presentation Data Stage"
      ]
    },
    {
      "cell_type": "code",
      "metadata": {
        "id": "ATI5xj874s_5",
        "colab_type": "code",
        "colab": {}
      },
      "source": [
        "# import libraries\n",
        "import pandas as pd\n",
        "import numpy as np"
      ],
      "execution_count": 0,
      "outputs": []
    },
    {
      "cell_type": "code",
      "metadata": {
        "id": "Dt_0wQmw4woc",
        "colab_type": "code",
        "colab": {}
      },
      "source": [
        "WEB = 'https://github.com/mikvikpik/nike_factory_classification/raw/master/nike_export.xls'\n",
        "# read in dataset\n",
        "factory = pd.read_excel(WEB, header=1)"
      ],
      "execution_count": 0,
      "outputs": []
    },
    {
      "cell_type": "markdown",
      "metadata": {
        "id": "s8YA2KWZH8MX",
        "colab_type": "text"
      },
      "source": [
        "First step of this stage is to get analysis of usable features, and search for possible acceptable target vector(s). \n",
        "\n",
        "\n",
        "\n",
        "---\n",
        "\n",
        "Based on introduction of project, geographic data will be used to split data and then dismissed."
      ]
    },
    {
      "cell_type": "code",
      "metadata": {
        "id": "Ixldicc0PbfU",
        "colab_type": "code",
        "colab": {
          "base_uri": "https://localhost:8080/",
          "height": 35
        },
        "outputId": "e203cfe8-4513-4393-9213-c830c96499b9"
      },
      "source": [
        "# determing shape of data\n",
        "factory.shape\n",
        "# showing 601 observations and 21 features"
      ],
      "execution_count": 265,
      "outputs": [
        {
          "output_type": "execute_result",
          "data": {
            "text/plain": [
              "(601, 21)"
            ]
          },
          "metadata": {
            "tags": []
          },
          "execution_count": 265
        }
      ]
    },
    {
      "cell_type": "code",
      "metadata": {
        "id": "dKZ4mM6nObzE",
        "colab_type": "code",
        "colab": {
          "base_uri": "https://localhost:8080/",
          "height": 121
        },
        "outputId": "05f908af-dbed-451a-cfc4-956665bf1882"
      },
      "source": [
        "# determining name of features\n",
        "factory.columns\n",
        "# split of data will be on 'Country / Region'"
      ],
      "execution_count": 266,
      "outputs": [
        {
          "output_type": "execute_result",
          "data": {
            "text/plain": [
              "Index(['Factory Name', 'Factory Type', 'Product Type', 'Nike, Inc. Brand(s)',\n",
              "       'Events', 'Supplier Group', 'Address', 'City', 'State', 'Postal Code',\n",
              "       'Country / Region', 'Operating Region', 'Total Workers', 'Line Workers',\n",
              "       '% Female Workers', '% Migrant Workers', 'Contact Name',\n",
              "       'Contact Phone', 'Contact Fax', 'Contact Email', 'Subcons'],\n",
              "      dtype='object')"
            ]
          },
          "metadata": {
            "tags": []
          },
          "execution_count": 266
        }
      ]
    },
    {
      "cell_type": "code",
      "metadata": {
        "id": "5FUsyEwLO54h",
        "colab_type": "code",
        "colab": {
          "base_uri": "https://localhost:8080/",
          "height": 121
        },
        "outputId": "4f954574-225f-4a03-de6e-996743624382"
      },
      "source": [
        "# header view of feature to obtain data type and value for split\n",
        "factory['Country / Region'].head()"
      ],
      "execution_count": 267,
      "outputs": [
        {
          "output_type": "execute_result",
          "data": {
            "text/plain": [
              "0          USA\n",
              "1      VIETNAM\n",
              "2    GUATEMALA\n",
              "3      VIETNAM\n",
              "4      VIETNAM\n",
              "Name: Country / Region, dtype: object"
            ]
          },
          "metadata": {
            "tags": []
          },
          "execution_count": 267
        }
      ]
    },
    {
      "cell_type": "code",
      "metadata": {
        "id": "kA39Rb7OPP_W",
        "colab_type": "code",
        "colab": {
          "base_uri": "https://localhost:8080/",
          "height": 121
        },
        "outputId": "4aba8be0-6630-42cb-9ff9-b023137713e2"
      },
      "source": [
        "# determing data of best split values\n",
        "factory['Country / Region'].value_counts().head()\n",
        "# based on value of total observation to test CHINA and validate VIETNAM\n",
        "# remaining data train"
      ],
      "execution_count": 268,
      "outputs": [
        {
          "output_type": "execute_result",
          "data": {
            "text/plain": [
              "VIETNAM      122\n",
              "CHINA        121\n",
              "INDONESIA     44\n",
              "USA           42\n",
              "TAIWAN        38\n",
              "Name: Country / Region, dtype: int64"
            ]
          },
          "metadata": {
            "tags": []
          },
          "execution_count": 268
        }
      ]
    },
    {
      "cell_type": "code",
      "metadata": {
        "id": "5rGUZWW1OReI",
        "colab_type": "code",
        "colab": {}
      },
      "source": [
        "# split of data\n",
        "test_factory = factory[factory['Country / Region'] == 'CHINA']\n",
        "validation_factory = factory[factory['Country / Region'] == 'VIETNAM']\n",
        "train_factory = factory[factory['Country / Region'] != 'CHINA' ] \n",
        "train_factory = train_factory[train_factory['Country / Region'] != 'VIETNAM']"
      ],
      "execution_count": 0,
      "outputs": []
    },
    {
      "cell_type": "code",
      "metadata": {
        "id": "YexsnopQQmoW",
        "colab_type": "code",
        "colab": {
          "base_uri": "https://localhost:8080/",
          "height": 35
        },
        "outputId": "b81d8dd1-f511-451a-bba9-0f69d1c0d1d3"
      },
      "source": [
        "# validation of data by shape\n",
        "test_factory.shape, validation_factory.shape, train_factory.shape"
      ],
      "execution_count": 270,
      "outputs": [
        {
          "output_type": "execute_result",
          "data": {
            "text/plain": [
              "((121, 21), (122, 21), (358, 21))"
            ]
          },
          "metadata": {
            "tags": []
          },
          "execution_count": 270
        }
      ]
    },
    {
      "cell_type": "markdown",
      "metadata": {
        "id": "2ZC4eITMRQYH",
        "colab_type": "text"
      },
      "source": [
        "Small training to test and validation data presents a problem of over or underfitting the model. Cross validation would seem best in this practice, however with the similar observation counts of 2 countries, Presentor of data is separating into train, validation, and test data to prevent a bias of large amount of data in train data set.\n",
        "\n",
        "---\n",
        "\n",
        "Next, will commence dropping of geographic data for objectivity, followed by dropping unusable data."
      ]
    },
    {
      "cell_type": "code",
      "metadata": {
        "id": "31-O5TOtRK_u",
        "colab_type": "code",
        "colab": {}
      },
      "source": [
        "# drop columns list\n",
        "\n",
        "drop_columns = ['Address', 'City', 'State', 'Postal Code', 'Country / Region',\n",
        "                'Operating Region', \n",
        "                #geographic data\n",
        "                \n",
        "                'Contact Name', 'Contact Phone', 'Contact Fax', 'Contact Email',\n",
        "               #unusable data\n",
        "               ]\n",
        "\n",
        "# test data drop\n",
        "test_factory = test_factory.drop(columns = drop_columns)\n",
        "\n",
        "#validate data drop\n",
        "validation_factory = validation_factory.drop(columns = drop_columns)\n",
        "\n",
        "# train data drop\n",
        "train_factory = train_factory.drop(columns = drop_columns)"
      ],
      "execution_count": 0,
      "outputs": []
    },
    {
      "cell_type": "code",
      "metadata": {
        "id": "v4OVcTo6T9Xo",
        "colab_type": "code",
        "colab": {
          "base_uri": "https://localhost:8080/",
          "height": 35
        },
        "outputId": "40147095-8216-406c-d0bb-b4b4b3a82278"
      },
      "source": [
        "# shape validation, should see decrease in feature count\n",
        "test_factory.shape, validation_factory.shape, train_factory.shape\n",
        "# feature frops from 21 to 11"
      ],
      "execution_count": 272,
      "outputs": [
        {
          "output_type": "execute_result",
          "data": {
            "text/plain": [
              "((121, 11), (122, 11), (358, 11))"
            ]
          },
          "metadata": {
            "tags": []
          },
          "execution_count": 272
        }
      ]
    },
    {
      "cell_type": "markdown",
      "metadata": {
        "id": "-dCR6i-IUTJq",
        "colab_type": "text"
      },
      "source": [
        "Second stage requires further exploration of data to determine usable features."
      ]
    },
    {
      "cell_type": "code",
      "metadata": {
        "id": "VSTPonBGUGhF",
        "colab_type": "code",
        "colab": {
          "base_uri": "https://localhost:8080/",
          "height": 460
        },
        "outputId": "2b051914-634a-429b-f71e-1b4b40511a9d"
      },
      "source": [
        "# visual header overview of train data to determine unusable features\n",
        "train_factory.head()\n",
        "# features 'Events' and 'Subcons' have large Nan value count in header"
      ],
      "execution_count": 273,
      "outputs": [
        {
          "output_type": "execute_result",
          "data": {
            "text/html": [
              "<div>\n",
              "<style scoped>\n",
              "    .dataframe tbody tr th:only-of-type {\n",
              "        vertical-align: middle;\n",
              "    }\n",
              "\n",
              "    .dataframe tbody tr th {\n",
              "        vertical-align: top;\n",
              "    }\n",
              "\n",
              "    .dataframe thead th {\n",
              "        text-align: right;\n",
              "    }\n",
              "</style>\n",
              "<table border=\"1\" class=\"dataframe\">\n",
              "  <thead>\n",
              "    <tr style=\"text-align: right;\">\n",
              "      <th></th>\n",
              "      <th>Factory Name</th>\n",
              "      <th>Factory Type</th>\n",
              "      <th>Product Type</th>\n",
              "      <th>Nike, Inc. Brand(s)</th>\n",
              "      <th>Events</th>\n",
              "      <th>Supplier Group</th>\n",
              "      <th>Total Workers</th>\n",
              "      <th>Line Workers</th>\n",
              "      <th>% Female Workers</th>\n",
              "      <th>% Migrant Workers</th>\n",
              "      <th>Subcons</th>\n",
              "    </tr>\n",
              "  </thead>\n",
              "  <tbody>\n",
              "    <tr>\n",
              "      <th>0</th>\n",
              "      <td>A &amp; K DESIGNS, INC.</td>\n",
              "      <td>FINISHED GOODS</td>\n",
              "      <td>APPAREL</td>\n",
              "      <td>NIKE</td>\n",
              "      <td>NaN</td>\n",
              "      <td>A &amp; K DESIGNS</td>\n",
              "      <td>104.0</td>\n",
              "      <td>90.0</td>\n",
              "      <td>64.0%</td>\n",
              "      <td>0.0%</td>\n",
              "      <td>NaN</td>\n",
              "    </tr>\n",
              "    <tr>\n",
              "      <th>2</th>\n",
              "      <td>ACABADOS Y SERIGRAFIA, SA (ACSA)</td>\n",
              "      <td>FINISHED GOODS</td>\n",
              "      <td>APPAREL</td>\n",
              "      <td>HURLEY</td>\n",
              "      <td>NaN</td>\n",
              "      <td>NO SUPPLIER GROUP</td>\n",
              "      <td>140.0</td>\n",
              "      <td>130.0</td>\n",
              "      <td>31.0%</td>\n",
              "      <td>0.0%</td>\n",
              "      <td>NaN</td>\n",
              "    </tr>\n",
              "    <tr>\n",
              "      <th>5</th>\n",
              "      <td>AIRTEX</td>\n",
              "      <td>FINISHED GOODS</td>\n",
              "      <td>EQUIPMENT</td>\n",
              "      <td>NIKE</td>\n",
              "      <td>Collegiate</td>\n",
              "      <td>STX, LLC</td>\n",
              "      <td>72.0</td>\n",
              "      <td>46.0</td>\n",
              "      <td>69.0%</td>\n",
              "      <td>0.0%</td>\n",
              "      <td>NaN</td>\n",
              "    </tr>\n",
              "    <tr>\n",
              "      <th>6</th>\n",
              "      <td>AJARA TEXTILE</td>\n",
              "      <td>FINISHED GOODS</td>\n",
              "      <td>APPAREL</td>\n",
              "      <td>NIKE</td>\n",
              "      <td>NaN</td>\n",
              "      <td>MILTEKS</td>\n",
              "      <td>1202.0</td>\n",
              "      <td>1106.0</td>\n",
              "      <td>98.0%</td>\n",
              "      <td>0.0%</td>\n",
              "      <td>NaN</td>\n",
              "    </tr>\n",
              "    <tr>\n",
              "      <th>8</th>\n",
              "      <td>ALMAXTEX TEKSTIL</td>\n",
              "      <td>FINISHED GOODS</td>\n",
              "      <td>APPAREL</td>\n",
              "      <td>NIKE, CONVERSE</td>\n",
              "      <td>NaN</td>\n",
              "      <td>YESIM</td>\n",
              "      <td>2570.0</td>\n",
              "      <td>1750.0</td>\n",
              "      <td>52.0%</td>\n",
              "      <td>0.0%</td>\n",
              "      <td>ASENA 3 TEXTIL S.R.L., Asena 4, Asena Textile,...</td>\n",
              "    </tr>\n",
              "  </tbody>\n",
              "</table>\n",
              "</div>"
            ],
            "text/plain": [
              "                       Factory Name  ...                                            Subcons\n",
              "0               A & K DESIGNS, INC.  ...                                                NaN\n",
              "2  ACABADOS Y SERIGRAFIA, SA (ACSA)  ...                                                NaN\n",
              "5                            AIRTEX  ...                                                NaN\n",
              "6                     AJARA TEXTILE  ...                                                NaN\n",
              "8                  ALMAXTEX TEKSTIL  ...  ASENA 3 TEXTIL S.R.L., Asena 4, Asena Textile,...\n",
              "\n",
              "[5 rows x 11 columns]"
            ]
          },
          "metadata": {
            "tags": []
          },
          "execution_count": 273
        }
      ]
    },
    {
      "cell_type": "code",
      "metadata": {
        "id": "ZmeemoW_VLbb",
        "colab_type": "code",
        "colab": {
          "base_uri": "https://localhost:8080/",
          "height": 35
        },
        "outputId": "e9aa6ee3-abae-4c0d-94a0-ad74308c96a1"
      },
      "source": [
        "# investigation of 'Events' and 'Subcons' in train\n",
        "train_factory['Events'].isnull().sum(), train_factory['Subcons'].isnull().sum()\n",
        "# large majority of train data is null in train data\n",
        "# will be dropped"
      ],
      "execution_count": 274,
      "outputs": [
        {
          "output_type": "execute_result",
          "data": {
            "text/plain": [
              "(296, 320)"
            ]
          },
          "metadata": {
            "tags": []
          },
          "execution_count": 274
        }
      ]
    },
    {
      "cell_type": "code",
      "metadata": {
        "id": "FV98qKPlVnrq",
        "colab_type": "code",
        "colab": {
          "base_uri": "https://localhost:8080/",
          "height": 35
        },
        "outputId": "f203d23f-255f-4397-f79e-00b36929df66"
      },
      "source": [
        "# investigation of 'Events' and 'Subcons' in test and validate data\n",
        "print(test_factory['Events'].isnull().sum(), test_factory['Subcons'].isnull().sum(),\n",
        "    validation_factory['Events'].isnull().sum(),\n",
        "    validation_factory['Subcons'].isnull().sum())"
      ],
      "execution_count": 275,
      "outputs": [
        {
          "output_type": "stream",
          "text": [
            "97 107 93 106\n"
          ],
          "name": "stdout"
        }
      ]
    },
    {
      "cell_type": "markdown",
      "metadata": {
        "id": "GvcF4Fj_W8os",
        "colab_type": "text"
      },
      "source": [
        "While seemingly extraneous in procedure, importance may be relevant to test and validate data and is examined. Features have strong correlation of NaN values and will be dropped across all data sets."
      ]
    },
    {
      "cell_type": "code",
      "metadata": {
        "id": "9xD59g0IW15Y",
        "colab_type": "code",
        "colab": {}
      },
      "source": [
        "# list of drop columns\n",
        "drop_columns = ['Events', 'Subcons']\n",
        "\n",
        "# test data\n",
        "test_factory = test_factory.drop(columns = drop_columns)\n",
        "\n",
        "# validation data\n",
        "validation_factory = validation_factory.drop(columns = drop_columns)\n",
        "\n",
        "# train data\n",
        "train_factory = train_factory.drop(columns = drop_columns)"
      ],
      "execution_count": 0,
      "outputs": []
    },
    {
      "cell_type": "code",
      "metadata": {
        "id": "-4bdfMBtYBaO",
        "colab_type": "code",
        "colab": {
          "base_uri": "https://localhost:8080/",
          "height": 35
        },
        "outputId": "52ffbeea-0730-49ef-8c43-39aeceb4ee30"
      },
      "source": [
        "# validation of drop by shape size\n",
        "test_factory.shape, validation_factory.shape, train_factory.shape\n",
        "# feature count drops from 11 to 9"
      ],
      "execution_count": 277,
      "outputs": [
        {
          "output_type": "execute_result",
          "data": {
            "text/plain": [
              "((121, 9), (122, 9), (358, 9))"
            ]
          },
          "metadata": {
            "tags": []
          },
          "execution_count": 277
        }
      ]
    },
    {
      "cell_type": "markdown",
      "metadata": {
        "id": "0wC7wRIeYs04",
        "colab_type": "text"
      },
      "source": [
        "While pandas_profiler would be a useful tool to examine data at this juncture, self evaluation is preferred to clean data so as to not cause presenter bias further."
      ]
    },
    {
      "cell_type": "code",
      "metadata": {
        "id": "HXz6GUrfYGy5",
        "colab_type": "code",
        "colab": {
          "base_uri": "https://localhost:8080/",
          "height": 190
        },
        "outputId": "462a338f-6950-48ad-b07c-b8aecba134fd"
      },
      "source": [
        "# evaluating rest of train data for NaNs\n",
        "train_factory.isnull().sum()\n",
        "# shows 'Total Workers' and 'Line Workers' having NaNs\n",
        "# common knowledge would determine that workers are needed for a factory\n",
        "# decision is to leave for next cycle to determine imputation"
      ],
      "execution_count": 278,
      "outputs": [
        {
          "output_type": "execute_result",
          "data": {
            "text/plain": [
              "Factory Name            0\n",
              "Factory Type            0\n",
              "Product Type            0\n",
              "Nike, Inc. Brand(s)     0\n",
              "Supplier Group          0\n",
              "Total Workers          47\n",
              "Line Workers           49\n",
              "% Female Workers        0\n",
              "% Migrant Workers       0\n",
              "dtype: int64"
            ]
          },
          "metadata": {
            "tags": []
          },
          "execution_count": 278
        }
      ]
    },
    {
      "cell_type": "code",
      "metadata": {
        "id": "aE1NALbWZGZg",
        "colab_type": "code",
        "colab": {
          "base_uri": "https://localhost:8080/",
          "height": 363
        },
        "outputId": "7ab588ca-3f53-42f6-a08d-8e1a1e75d37e"
      },
      "source": [
        "# checking test and validation data for same occurance\n",
        "print(test_factory.isnull().sum())\n",
        "validation_factory.isnull().sum()\n",
        "# same occurance happens\n",
        "# same decision to be made for imputation"
      ],
      "execution_count": 279,
      "outputs": [
        {
          "output_type": "stream",
          "text": [
            "Factory Name            0\n",
            "Factory Type            0\n",
            "Product Type            0\n",
            "Nike, Inc. Brand(s)     0\n",
            "Supplier Group          0\n",
            "Total Workers          12\n",
            "Line Workers           12\n",
            "% Female Workers        0\n",
            "% Migrant Workers       0\n",
            "dtype: int64\n"
          ],
          "name": "stdout"
        },
        {
          "output_type": "execute_result",
          "data": {
            "text/plain": [
              "Factory Name            0\n",
              "Factory Type            0\n",
              "Product Type            0\n",
              "Nike, Inc. Brand(s)     0\n",
              "Supplier Group          0\n",
              "Total Workers          17\n",
              "Line Workers           17\n",
              "% Female Workers        0\n",
              "% Migrant Workers       0\n",
              "dtype: int64"
            ]
          },
          "metadata": {
            "tags": []
          },
          "execution_count": 279
        }
      ]
    },
    {
      "cell_type": "code",
      "metadata": {
        "id": "wNLjC6QxZveo",
        "colab_type": "code",
        "colab": {
          "base_uri": "https://localhost:8080/",
          "height": 336
        },
        "outputId": "5f653492-f5e9-4410-9e56-eef367313d56"
      },
      "source": [
        "# final header overview for discernable feature upsets\n",
        "train_factory.head()"
      ],
      "execution_count": 280,
      "outputs": [
        {
          "output_type": "execute_result",
          "data": {
            "text/html": [
              "<div>\n",
              "<style scoped>\n",
              "    .dataframe tbody tr th:only-of-type {\n",
              "        vertical-align: middle;\n",
              "    }\n",
              "\n",
              "    .dataframe tbody tr th {\n",
              "        vertical-align: top;\n",
              "    }\n",
              "\n",
              "    .dataframe thead th {\n",
              "        text-align: right;\n",
              "    }\n",
              "</style>\n",
              "<table border=\"1\" class=\"dataframe\">\n",
              "  <thead>\n",
              "    <tr style=\"text-align: right;\">\n",
              "      <th></th>\n",
              "      <th>Factory Name</th>\n",
              "      <th>Factory Type</th>\n",
              "      <th>Product Type</th>\n",
              "      <th>Nike, Inc. Brand(s)</th>\n",
              "      <th>Supplier Group</th>\n",
              "      <th>Total Workers</th>\n",
              "      <th>Line Workers</th>\n",
              "      <th>% Female Workers</th>\n",
              "      <th>% Migrant Workers</th>\n",
              "    </tr>\n",
              "  </thead>\n",
              "  <tbody>\n",
              "    <tr>\n",
              "      <th>0</th>\n",
              "      <td>A &amp; K DESIGNS, INC.</td>\n",
              "      <td>FINISHED GOODS</td>\n",
              "      <td>APPAREL</td>\n",
              "      <td>NIKE</td>\n",
              "      <td>A &amp; K DESIGNS</td>\n",
              "      <td>104.0</td>\n",
              "      <td>90.0</td>\n",
              "      <td>64.0%</td>\n",
              "      <td>0.0%</td>\n",
              "    </tr>\n",
              "    <tr>\n",
              "      <th>2</th>\n",
              "      <td>ACABADOS Y SERIGRAFIA, SA (ACSA)</td>\n",
              "      <td>FINISHED GOODS</td>\n",
              "      <td>APPAREL</td>\n",
              "      <td>HURLEY</td>\n",
              "      <td>NO SUPPLIER GROUP</td>\n",
              "      <td>140.0</td>\n",
              "      <td>130.0</td>\n",
              "      <td>31.0%</td>\n",
              "      <td>0.0%</td>\n",
              "    </tr>\n",
              "    <tr>\n",
              "      <th>5</th>\n",
              "      <td>AIRTEX</td>\n",
              "      <td>FINISHED GOODS</td>\n",
              "      <td>EQUIPMENT</td>\n",
              "      <td>NIKE</td>\n",
              "      <td>STX, LLC</td>\n",
              "      <td>72.0</td>\n",
              "      <td>46.0</td>\n",
              "      <td>69.0%</td>\n",
              "      <td>0.0%</td>\n",
              "    </tr>\n",
              "    <tr>\n",
              "      <th>6</th>\n",
              "      <td>AJARA TEXTILE</td>\n",
              "      <td>FINISHED GOODS</td>\n",
              "      <td>APPAREL</td>\n",
              "      <td>NIKE</td>\n",
              "      <td>MILTEKS</td>\n",
              "      <td>1202.0</td>\n",
              "      <td>1106.0</td>\n",
              "      <td>98.0%</td>\n",
              "      <td>0.0%</td>\n",
              "    </tr>\n",
              "    <tr>\n",
              "      <th>8</th>\n",
              "      <td>ALMAXTEX TEKSTIL</td>\n",
              "      <td>FINISHED GOODS</td>\n",
              "      <td>APPAREL</td>\n",
              "      <td>NIKE, CONVERSE</td>\n",
              "      <td>YESIM</td>\n",
              "      <td>2570.0</td>\n",
              "      <td>1750.0</td>\n",
              "      <td>52.0%</td>\n",
              "      <td>0.0%</td>\n",
              "    </tr>\n",
              "  </tbody>\n",
              "</table>\n",
              "</div>"
            ],
            "text/plain": [
              "                       Factory Name  ... % Migrant Workers\n",
              "0               A & K DESIGNS, INC.  ...              0.0%\n",
              "2  ACABADOS Y SERIGRAFIA, SA (ACSA)  ...              0.0%\n",
              "5                            AIRTEX  ...              0.0%\n",
              "6                     AJARA TEXTILE  ...              0.0%\n",
              "8                  ALMAXTEX TEKSTIL  ...              0.0%\n",
              "\n",
              "[5 rows x 9 columns]"
            ]
          },
          "metadata": {
            "tags": []
          },
          "execution_count": 280
        }
      ]
    },
    {
      "cell_type": "markdown",
      "metadata": {
        "id": "lCphEEsQbgjo",
        "colab_type": "text"
      },
      "source": [
        "Presentation of data and the decision of removing geographic data is for the purpose of factory to factory operational metrics and can be rejoined on index from original data set for further business evaluation."
      ]
    },
    {
      "cell_type": "markdown",
      "metadata": {
        "id": "RUMoELTybR9d",
        "colab_type": "text"
      },
      "source": [
        "<h1> <center><u>Cleaning Data Stage"
      ]
    },
    {
      "cell_type": "markdown",
      "metadata": {
        "id": "RvwufDgmcAWL",
        "colab_type": "text"
      },
      "source": [
        "Separate from presentation, cleaning data involves a deeper look at how the data could be impacted from further deletion of features or observations as well as imputation of missing or wrong data types."
      ]
    },
    {
      "cell_type": "code",
      "metadata": {
        "id": "o4xddsug21uZ",
        "colab_type": "code",
        "colab": {}
      },
      "source": [
        "# import libraries\n",
        "import pandas as pd\n",
        "import numpy as np"
      ],
      "execution_count": 0,
      "outputs": []
    },
    {
      "cell_type": "code",
      "metadata": {
        "id": "gTgz6Em925lV",
        "colab_type": "code",
        "colab": {}
      },
      "source": [
        "# read in data set from previous stage\n",
        "train_factory = train_factory\n",
        "test_factory = test_factory\n",
        "validation_factory = validation_factory"
      ],
      "execution_count": 0,
      "outputs": []
    },
    {
      "cell_type": "code",
      "metadata": {
        "id": "iElozWLybDsR",
        "colab_type": "code",
        "colab": {
          "base_uri": "https://localhost:8080/",
          "height": 336
        },
        "outputId": "ccbe7931-28ed-4bba-8680-7175e6f66255"
      },
      "source": [
        "# overview of train data by header\n",
        "train_factory.head()"
      ],
      "execution_count": 283,
      "outputs": [
        {
          "output_type": "execute_result",
          "data": {
            "text/html": [
              "<div>\n",
              "<style scoped>\n",
              "    .dataframe tbody tr th:only-of-type {\n",
              "        vertical-align: middle;\n",
              "    }\n",
              "\n",
              "    .dataframe tbody tr th {\n",
              "        vertical-align: top;\n",
              "    }\n",
              "\n",
              "    .dataframe thead th {\n",
              "        text-align: right;\n",
              "    }\n",
              "</style>\n",
              "<table border=\"1\" class=\"dataframe\">\n",
              "  <thead>\n",
              "    <tr style=\"text-align: right;\">\n",
              "      <th></th>\n",
              "      <th>Factory Name</th>\n",
              "      <th>Factory Type</th>\n",
              "      <th>Product Type</th>\n",
              "      <th>Nike, Inc. Brand(s)</th>\n",
              "      <th>Supplier Group</th>\n",
              "      <th>Total Workers</th>\n",
              "      <th>Line Workers</th>\n",
              "      <th>% Female Workers</th>\n",
              "      <th>% Migrant Workers</th>\n",
              "    </tr>\n",
              "  </thead>\n",
              "  <tbody>\n",
              "    <tr>\n",
              "      <th>0</th>\n",
              "      <td>A &amp; K DESIGNS, INC.</td>\n",
              "      <td>FINISHED GOODS</td>\n",
              "      <td>APPAREL</td>\n",
              "      <td>NIKE</td>\n",
              "      <td>A &amp; K DESIGNS</td>\n",
              "      <td>104.0</td>\n",
              "      <td>90.0</td>\n",
              "      <td>64.0%</td>\n",
              "      <td>0.0%</td>\n",
              "    </tr>\n",
              "    <tr>\n",
              "      <th>2</th>\n",
              "      <td>ACABADOS Y SERIGRAFIA, SA (ACSA)</td>\n",
              "      <td>FINISHED GOODS</td>\n",
              "      <td>APPAREL</td>\n",
              "      <td>HURLEY</td>\n",
              "      <td>NO SUPPLIER GROUP</td>\n",
              "      <td>140.0</td>\n",
              "      <td>130.0</td>\n",
              "      <td>31.0%</td>\n",
              "      <td>0.0%</td>\n",
              "    </tr>\n",
              "    <tr>\n",
              "      <th>5</th>\n",
              "      <td>AIRTEX</td>\n",
              "      <td>FINISHED GOODS</td>\n",
              "      <td>EQUIPMENT</td>\n",
              "      <td>NIKE</td>\n",
              "      <td>STX, LLC</td>\n",
              "      <td>72.0</td>\n",
              "      <td>46.0</td>\n",
              "      <td>69.0%</td>\n",
              "      <td>0.0%</td>\n",
              "    </tr>\n",
              "    <tr>\n",
              "      <th>6</th>\n",
              "      <td>AJARA TEXTILE</td>\n",
              "      <td>FINISHED GOODS</td>\n",
              "      <td>APPAREL</td>\n",
              "      <td>NIKE</td>\n",
              "      <td>MILTEKS</td>\n",
              "      <td>1202.0</td>\n",
              "      <td>1106.0</td>\n",
              "      <td>98.0%</td>\n",
              "      <td>0.0%</td>\n",
              "    </tr>\n",
              "    <tr>\n",
              "      <th>8</th>\n",
              "      <td>ALMAXTEX TEKSTIL</td>\n",
              "      <td>FINISHED GOODS</td>\n",
              "      <td>APPAREL</td>\n",
              "      <td>NIKE, CONVERSE</td>\n",
              "      <td>YESIM</td>\n",
              "      <td>2570.0</td>\n",
              "      <td>1750.0</td>\n",
              "      <td>52.0%</td>\n",
              "      <td>0.0%</td>\n",
              "    </tr>\n",
              "  </tbody>\n",
              "</table>\n",
              "</div>"
            ],
            "text/plain": [
              "                       Factory Name  ... % Migrant Workers\n",
              "0               A & K DESIGNS, INC.  ...              0.0%\n",
              "2  ACABADOS Y SERIGRAFIA, SA (ACSA)  ...              0.0%\n",
              "5                            AIRTEX  ...              0.0%\n",
              "6                     AJARA TEXTILE  ...              0.0%\n",
              "8                  ALMAXTEX TEKSTIL  ...              0.0%\n",
              "\n",
              "[5 rows x 9 columns]"
            ]
          },
          "metadata": {
            "tags": []
          },
          "execution_count": 283
        }
      ]
    },
    {
      "cell_type": "code",
      "metadata": {
        "id": "bR5pfKmQeJQX",
        "colab_type": "code",
        "colab": {
          "base_uri": "https://localhost:8080/",
          "height": 288
        },
        "outputId": "c0663762-3974-4591-bda5-c28c738abc7e"
      },
      "source": [
        "# analysis of numerical data\n",
        "train_factory.describe()\n",
        "# 2 features known as true numerical"
      ],
      "execution_count": 284,
      "outputs": [
        {
          "output_type": "execute_result",
          "data": {
            "text/html": [
              "<div>\n",
              "<style scoped>\n",
              "    .dataframe tbody tr th:only-of-type {\n",
              "        vertical-align: middle;\n",
              "    }\n",
              "\n",
              "    .dataframe tbody tr th {\n",
              "        vertical-align: top;\n",
              "    }\n",
              "\n",
              "    .dataframe thead th {\n",
              "        text-align: right;\n",
              "    }\n",
              "</style>\n",
              "<table border=\"1\" class=\"dataframe\">\n",
              "  <thead>\n",
              "    <tr style=\"text-align: right;\">\n",
              "      <th></th>\n",
              "      <th>Total Workers</th>\n",
              "      <th>Line Workers</th>\n",
              "    </tr>\n",
              "  </thead>\n",
              "  <tbody>\n",
              "    <tr>\n",
              "      <th>count</th>\n",
              "      <td>311.000000</td>\n",
              "      <td>309.000000</td>\n",
              "    </tr>\n",
              "    <tr>\n",
              "      <th>mean</th>\n",
              "      <td>1537.996785</td>\n",
              "      <td>1239.656958</td>\n",
              "    </tr>\n",
              "    <tr>\n",
              "      <th>std</th>\n",
              "      <td>3040.218898</td>\n",
              "      <td>2638.363109</td>\n",
              "    </tr>\n",
              "    <tr>\n",
              "      <th>min</th>\n",
              "      <td>0.000000</td>\n",
              "      <td>1.000000</td>\n",
              "    </tr>\n",
              "    <tr>\n",
              "      <th>25%</th>\n",
              "      <td>88.500000</td>\n",
              "      <td>69.000000</td>\n",
              "    </tr>\n",
              "    <tr>\n",
              "      <th>50%</th>\n",
              "      <td>499.000000</td>\n",
              "      <td>309.000000</td>\n",
              "    </tr>\n",
              "    <tr>\n",
              "      <th>75%</th>\n",
              "      <td>1732.500000</td>\n",
              "      <td>1232.000000</td>\n",
              "    </tr>\n",
              "    <tr>\n",
              "      <th>max</th>\n",
              "      <td>22666.000000</td>\n",
              "      <td>20527.000000</td>\n",
              "    </tr>\n",
              "  </tbody>\n",
              "</table>\n",
              "</div>"
            ],
            "text/plain": [
              "       Total Workers  Line Workers\n",
              "count     311.000000    309.000000\n",
              "mean     1537.996785   1239.656958\n",
              "std      3040.218898   2638.363109\n",
              "min         0.000000      1.000000\n",
              "25%        88.500000     69.000000\n",
              "50%       499.000000    309.000000\n",
              "75%      1732.500000   1232.000000\n",
              "max     22666.000000  20527.000000"
            ]
          },
          "metadata": {
            "tags": []
          },
          "execution_count": 284
        }
      ]
    },
    {
      "cell_type": "code",
      "metadata": {
        "id": "9hhBOuvoeP1j",
        "colab_type": "code",
        "colab": {
          "base_uri": "https://localhost:8080/",
          "height": 203
        },
        "outputId": "50da067f-6546-4d21-d7b6-61f35cb6bcd1"
      },
      "source": [
        "# analysis of non-numerical data\n",
        "train_factory.describe(exclude = 'number')\n",
        "# disparity of numbers in non-numeric analysis\n",
        "# need cleaning of '%' from '% X Workers' features"
      ],
      "execution_count": 285,
      "outputs": [
        {
          "output_type": "execute_result",
          "data": {
            "text/html": [
              "<div>\n",
              "<style scoped>\n",
              "    .dataframe tbody tr th:only-of-type {\n",
              "        vertical-align: middle;\n",
              "    }\n",
              "\n",
              "    .dataframe tbody tr th {\n",
              "        vertical-align: top;\n",
              "    }\n",
              "\n",
              "    .dataframe thead th {\n",
              "        text-align: right;\n",
              "    }\n",
              "</style>\n",
              "<table border=\"1\" class=\"dataframe\">\n",
              "  <thead>\n",
              "    <tr style=\"text-align: right;\">\n",
              "      <th></th>\n",
              "      <th>Factory Name</th>\n",
              "      <th>Factory Type</th>\n",
              "      <th>Product Type</th>\n",
              "      <th>Nike, Inc. Brand(s)</th>\n",
              "      <th>Supplier Group</th>\n",
              "      <th>% Female Workers</th>\n",
              "      <th>% Migrant Workers</th>\n",
              "    </tr>\n",
              "  </thead>\n",
              "  <tbody>\n",
              "    <tr>\n",
              "      <th>count</th>\n",
              "      <td>358</td>\n",
              "      <td>358</td>\n",
              "      <td>358</td>\n",
              "      <td>358</td>\n",
              "      <td>358</td>\n",
              "      <td>358</td>\n",
              "      <td>358</td>\n",
              "    </tr>\n",
              "    <tr>\n",
              "      <th>unique</th>\n",
              "      <td>353</td>\n",
              "      <td>3</td>\n",
              "      <td>4</td>\n",
              "      <td>7</td>\n",
              "      <td>148</td>\n",
              "      <td>85</td>\n",
              "      <td>83</td>\n",
              "    </tr>\n",
              "    <tr>\n",
              "      <th>top</th>\n",
              "      <td>NAN YANG GARMENT CO., LTD.</td>\n",
              "      <td>FINISHED GOODS</td>\n",
              "      <td>APPAREL</td>\n",
              "      <td>NIKE</td>\n",
              "      <td>NO SUPPLIER GROUP</td>\n",
              "      <td>0.0%</td>\n",
              "      <td>0.0%</td>\n",
              "    </tr>\n",
              "    <tr>\n",
              "      <th>freq</th>\n",
              "      <td>2</td>\n",
              "      <td>289</td>\n",
              "      <td>207</td>\n",
              "      <td>268</td>\n",
              "      <td>74</td>\n",
              "      <td>51</td>\n",
              "      <td>242</td>\n",
              "    </tr>\n",
              "  </tbody>\n",
              "</table>\n",
              "</div>"
            ],
            "text/plain": [
              "                      Factory Name  ... % Migrant Workers\n",
              "count                          358  ...               358\n",
              "unique                         353  ...                83\n",
              "top     NAN YANG GARMENT CO., LTD.  ...              0.0%\n",
              "freq                             2  ...               242\n",
              "\n",
              "[4 rows x 7 columns]"
            ]
          },
          "metadata": {
            "tags": []
          },
          "execution_count": 285
        }
      ]
    },
    {
      "cell_type": "code",
      "metadata": {
        "id": "DklMqcg-iiMI",
        "colab_type": "code",
        "colab": {
          "base_uri": "https://localhost:8080/",
          "height": 35
        },
        "outputId": "797d9e67-75cb-40f1-d76a-c747802e0701"
      },
      "source": [
        "# identifying type from % Female Workers\n",
        "type(train_factory['% Female Workers'][0])"
      ],
      "execution_count": 286,
      "outputs": [
        {
          "output_type": "execute_result",
          "data": {
            "text/plain": [
              "str"
            ]
          },
          "metadata": {
            "tags": []
          },
          "execution_count": 286
        }
      ]
    },
    {
      "cell_type": "code",
      "metadata": {
        "id": "QChEmBneec4C",
        "colab_type": "code",
        "colab": {}
      },
      "source": [
        "# consistency of all data sets for cleaning\n",
        "# set to strip character '%' and set as float\n",
        "\n",
        "# train\n",
        "train_factory['% Female Workers'] = (train_factory['% Female Workers']\n",
        "                                .apply(lambda x: x.strip('%')).astype(float))\n",
        "train_factory['% Migrant Workers'] = (train_factory['% Migrant Workers']\n",
        "                                .apply(lambda x: x.strip('%')).astype(float))\n",
        "\n",
        "# test\n",
        "test_factory['% Female Workers'] = (test_factory['% Female Workers']\n",
        "                                .apply(lambda x: x.strip('%')).astype(float))\n",
        "test_factory['% Migrant Workers'] = (test_factory['% Migrant Workers']\n",
        "                                .apply(lambda x: x.strip('%')).astype(float))\n",
        "\n",
        "# validation\n",
        "validation_factory['% Female Workers'] = (validation_factory['% Female Workers']\n",
        "                                .apply(lambda x: x.strip('%')).astype(float))\n",
        "validation_factory['% Migrant Workers'] = (validation_factory['% Migrant Workers']\n",
        "                                .apply(lambda x: x.strip('%')).astype(float))"
      ],
      "execution_count": 0,
      "outputs": []
    },
    {
      "cell_type": "code",
      "metadata": {
        "id": "nC5zLoeFhb0r",
        "colab_type": "code",
        "colab": {
          "base_uri": "https://localhost:8080/",
          "height": 288
        },
        "outputId": "46e4946b-c590-4a29-b3d7-afaaabc7dd37"
      },
      "source": [
        "# verify by numeric describe\n",
        "train_factory.describe()"
      ],
      "execution_count": 288,
      "outputs": [
        {
          "output_type": "execute_result",
          "data": {
            "text/html": [
              "<div>\n",
              "<style scoped>\n",
              "    .dataframe tbody tr th:only-of-type {\n",
              "        vertical-align: middle;\n",
              "    }\n",
              "\n",
              "    .dataframe tbody tr th {\n",
              "        vertical-align: top;\n",
              "    }\n",
              "\n",
              "    .dataframe thead th {\n",
              "        text-align: right;\n",
              "    }\n",
              "</style>\n",
              "<table border=\"1\" class=\"dataframe\">\n",
              "  <thead>\n",
              "    <tr style=\"text-align: right;\">\n",
              "      <th></th>\n",
              "      <th>Total Workers</th>\n",
              "      <th>Line Workers</th>\n",
              "      <th>% Female Workers</th>\n",
              "      <th>% Migrant Workers</th>\n",
              "    </tr>\n",
              "  </thead>\n",
              "  <tbody>\n",
              "    <tr>\n",
              "      <th>count</th>\n",
              "      <td>311.000000</td>\n",
              "      <td>309.000000</td>\n",
              "      <td>358.000000</td>\n",
              "      <td>358.000000</td>\n",
              "    </tr>\n",
              "    <tr>\n",
              "      <th>mean</th>\n",
              "      <td>1537.996785</td>\n",
              "      <td>1239.656958</td>\n",
              "      <td>53.290503</td>\n",
              "      <td>7.417318</td>\n",
              "    </tr>\n",
              "    <tr>\n",
              "      <th>std</th>\n",
              "      <td>3040.218898</td>\n",
              "      <td>2638.363109</td>\n",
              "      <td>29.700833</td>\n",
              "      <td>20.652387</td>\n",
              "    </tr>\n",
              "    <tr>\n",
              "      <th>min</th>\n",
              "      <td>0.000000</td>\n",
              "      <td>1.000000</td>\n",
              "      <td>0.000000</td>\n",
              "      <td>0.000000</td>\n",
              "    </tr>\n",
              "    <tr>\n",
              "      <th>25%</th>\n",
              "      <td>88.500000</td>\n",
              "      <td>69.000000</td>\n",
              "      <td>35.000000</td>\n",
              "      <td>0.000000</td>\n",
              "    </tr>\n",
              "    <tr>\n",
              "      <th>50%</th>\n",
              "      <td>499.000000</td>\n",
              "      <td>309.000000</td>\n",
              "      <td>60.000000</td>\n",
              "      <td>0.000000</td>\n",
              "    </tr>\n",
              "    <tr>\n",
              "      <th>75%</th>\n",
              "      <td>1732.500000</td>\n",
              "      <td>1232.000000</td>\n",
              "      <td>76.000000</td>\n",
              "      <td>0.575000</td>\n",
              "    </tr>\n",
              "    <tr>\n",
              "      <th>max</th>\n",
              "      <td>22666.000000</td>\n",
              "      <td>20527.000000</td>\n",
              "      <td>100.000000</td>\n",
              "      <td>98.800000</td>\n",
              "    </tr>\n",
              "  </tbody>\n",
              "</table>\n",
              "</div>"
            ],
            "text/plain": [
              "       Total Workers  Line Workers  % Female Workers  % Migrant Workers\n",
              "count     311.000000    309.000000        358.000000         358.000000\n",
              "mean     1537.996785   1239.656958         53.290503           7.417318\n",
              "std      3040.218898   2638.363109         29.700833          20.652387\n",
              "min         0.000000      1.000000          0.000000           0.000000\n",
              "25%        88.500000     69.000000         35.000000           0.000000\n",
              "50%       499.000000    309.000000         60.000000           0.000000\n",
              "75%      1732.500000   1232.000000         76.000000           0.575000\n",
              "max     22666.000000  20527.000000        100.000000          98.800000"
            ]
          },
          "metadata": {
            "tags": []
          },
          "execution_count": 288
        }
      ]
    },
    {
      "cell_type": "code",
      "metadata": {
        "id": "_SYtI4qBjzln",
        "colab_type": "code",
        "colab": {
          "base_uri": "https://localhost:8080/",
          "height": 190
        },
        "outputId": "b5dd5c1b-162c-46cf-f7f5-b7d206642cd9"
      },
      "source": [
        "# check for null values\n",
        "train_factory.isnull().sum()\n",
        "# Total and Line Workers have null values"
      ],
      "execution_count": 289,
      "outputs": [
        {
          "output_type": "execute_result",
          "data": {
            "text/plain": [
              "Factory Name            0\n",
              "Factory Type            0\n",
              "Product Type            0\n",
              "Nike, Inc. Brand(s)     0\n",
              "Supplier Group          0\n",
              "Total Workers          47\n",
              "Line Workers           49\n",
              "% Female Workers        0\n",
              "% Migrant Workers       0\n",
              "dtype: int64"
            ]
          },
          "metadata": {
            "tags": []
          },
          "execution_count": 289
        }
      ]
    },
    {
      "cell_type": "markdown",
      "metadata": {
        "id": "qweb3wghnVge",
        "colab_type": "text"
      },
      "source": [
        "Intuitive thinking leads to thought process of either Total Workers feature is a representation of Line Workers or correlating features are missing values completely.\n",
        "\n",
        "In the case of the former, filling along the observation axis is reccommended by creating duplicate series behind the opposite feature and forward filling to replace null values.\n",
        "\n",
        "In the case of the latter, possible imputation of representational median values or deletion of observations.\n",
        "\n",
        "For the case of uniqueness of observations and preservation of bias, filling will be attempted first. If null values remain, evaluation of latter case will be executed."
      ]
    },
    {
      "cell_type": "code",
      "metadata": {
        "id": "MMTJG4aYkFGX",
        "colab_type": "code",
        "colab": {
          "base_uri": "https://localhost:8080/",
          "height": 121
        },
        "outputId": "2864e077-8d07-4657-ed2e-a05101a9818c"
      },
      "source": [
        "# Total Worker header exploration including null values\n",
        "train_factory['Total Workers'].value_counts(dropna = False).head()"
      ],
      "execution_count": 290,
      "outputs": [
        {
          "output_type": "execute_result",
          "data": {
            "text/plain": [
              "NaN     47\n",
              "7.0      3\n",
              "26.0     3\n",
              "4.0      3\n",
              "25.0     3\n",
              "Name: Total Workers, dtype: int64"
            ]
          },
          "metadata": {
            "tags": []
          },
          "execution_count": 290
        }
      ]
    },
    {
      "cell_type": "code",
      "metadata": {
        "id": "BJ7mt7G5nGws",
        "colab_type": "code",
        "colab": {
          "base_uri": "https://localhost:8080/",
          "height": 121
        },
        "outputId": "2bfdb7fa-8e6a-40b2-abfd-a75844ee762f"
      },
      "source": [
        "# Line Worker header exploration including null values\n",
        "train_factory['Line Workers'].value_counts(dropna = False).head()"
      ],
      "execution_count": 291,
      "outputs": [
        {
          "output_type": "execute_result",
          "data": {
            "text/plain": [
              "NaN     49\n",
              "12.0     6\n",
              "22.0     4\n",
              "42.0     4\n",
              "36.0     3\n",
              "Name: Line Workers, dtype: int64"
            ]
          },
          "metadata": {
            "tags": []
          },
          "execution_count": 291
        }
      ]
    },
    {
      "cell_type": "markdown",
      "metadata": {
        "id": "SoHR-q0Eo3eN",
        "colab_type": "text"
      },
      "source": [
        "Only in the case of a small null values observation set would the following be observed, however, in the case of learning and interest, intuitive exploration is provided."
      ]
    },
    {
      "cell_type": "code",
      "metadata": {
        "id": "NcelpVc6khNF",
        "colab_type": "code",
        "colab": {
          "base_uri": "https://localhost:8080/",
          "height": 881
        },
        "outputId": "d9a5b4a7-6bfa-451b-9ea3-a82f891752a1"
      },
      "source": [
        "# displaying rows of 'Total Workers' that have null values in 'Line Workers'\n",
        "train_factory[train_factory['Line Workers'].isnull()]['Total Workers']"
      ],
      "execution_count": 292,
      "outputs": [
        {
          "output_type": "execute_result",
          "data": {
            "text/plain": [
              "15      NaN\n",
              "27      NaN\n",
              "28      NaN\n",
              "55      NaN\n",
              "56      NaN\n",
              "73      NaN\n",
              "104     NaN\n",
              "118     NaN\n",
              "125     NaN\n",
              "127     NaN\n",
              "136     NaN\n",
              "148     NaN\n",
              "151     NaN\n",
              "155    46.0\n",
              "166     NaN\n",
              "199     NaN\n",
              "208     NaN\n",
              "220     NaN\n",
              "287     NaN\n",
              "291     NaN\n",
              "333     NaN\n",
              "334     NaN\n",
              "341     NaN\n",
              "353     NaN\n",
              "354     NaN\n",
              "382     NaN\n",
              "383     NaN\n",
              "409     NaN\n",
              "410     NaN\n",
              "422     NaN\n",
              "423     NaN\n",
              "427     NaN\n",
              "428     NaN\n",
              "451     NaN\n",
              "496     NaN\n",
              "513     NaN\n",
              "515     NaN\n",
              "516     NaN\n",
              "518     NaN\n",
              "527     NaN\n",
              "528     4.0\n",
              "532     NaN\n",
              "574     NaN\n",
              "580     NaN\n",
              "582     NaN\n",
              "584     NaN\n",
              "586     NaN\n",
              "587     NaN\n",
              "588     NaN\n",
              "Name: Total Workers, dtype: float64"
            ]
          },
          "metadata": {
            "tags": []
          },
          "execution_count": 292
        }
      ]
    },
    {
      "cell_type": "code",
      "metadata": {
        "id": "kLBXXI3MmMer",
        "colab_type": "code",
        "colab": {
          "base_uri": "https://localhost:8080/",
          "height": 846
        },
        "outputId": "ef45b551-a0cf-4d44-da10-ac1b51f42ea2"
      },
      "source": [
        "# displaying rows of 'Line Workers' that have null values in 'Total Workers'\n",
        "train_factory[train_factory['Total Workers'].isnull()]['Line Workers']"
      ],
      "execution_count": 293,
      "outputs": [
        {
          "output_type": "execute_result",
          "data": {
            "text/plain": [
              "15    NaN\n",
              "27    NaN\n",
              "28    NaN\n",
              "55    NaN\n",
              "56    NaN\n",
              "73    NaN\n",
              "104   NaN\n",
              "118   NaN\n",
              "125   NaN\n",
              "127   NaN\n",
              "136   NaN\n",
              "148   NaN\n",
              "151   NaN\n",
              "166   NaN\n",
              "199   NaN\n",
              "208   NaN\n",
              "220   NaN\n",
              "287   NaN\n",
              "291   NaN\n",
              "333   NaN\n",
              "334   NaN\n",
              "341   NaN\n",
              "353   NaN\n",
              "354   NaN\n",
              "382   NaN\n",
              "383   NaN\n",
              "409   NaN\n",
              "410   NaN\n",
              "422   NaN\n",
              "423   NaN\n",
              "427   NaN\n",
              "428   NaN\n",
              "451   NaN\n",
              "496   NaN\n",
              "513   NaN\n",
              "515   NaN\n",
              "516   NaN\n",
              "518   NaN\n",
              "527   NaN\n",
              "532   NaN\n",
              "574   NaN\n",
              "580   NaN\n",
              "582   NaN\n",
              "584   NaN\n",
              "586   NaN\n",
              "587   NaN\n",
              "588   NaN\n",
              "Name: Line Workers, dtype: float64"
            ]
          },
          "metadata": {
            "tags": []
          },
          "execution_count": 293
        }
      ]
    },
    {
      "cell_type": "markdown",
      "metadata": {
        "id": "gxqEX7U5pPLZ",
        "colab_type": "text"
      },
      "source": [
        "Overview of data shows that 47 observations are missing from both features and would render duplication of feature columns and filling to be wasted time. \n",
        "\n",
        "Current evaluation is imputation and data skew. With more observations in the dataset, offers more learning data, however data would be skewed with chosen imputed data. \n",
        "\n",
        "Decision is to impute median data from each feature to offer more observations for train, validate, and test data sets."
      ]
    },
    {
      "cell_type": "code",
      "metadata": {
        "id": "JpjaTH8OmxEe",
        "colab_type": "code",
        "colab": {}
      },
      "source": [
        "# imputation of median features for all data sets\n",
        "\n",
        "#train\n",
        "train_factory['Line Workers'] = (train_factory['Line Workers']\n",
        "                                    .fillna(train_factory['Line Workers']\n",
        "                                            .median()))\n",
        "train_factory['Total Workers'] = (train_factory['Total Workers']\n",
        "                                    .fillna(train_factory['Total Workers']\n",
        "                                            .median()))\n",
        "\n",
        "#test\n",
        "test_factory['Line Workers'] = (test_factory['Line Workers']\n",
        "                                    .fillna(test_factory['Line Workers']\n",
        "                                            .median()))\n",
        "test_factory['Total Workers'] = (test_factory['Total Workers']\n",
        "                                    .fillna(test_factory['Total Workers']\n",
        "                                            .median()))\n",
        "\n",
        "#validatation\n",
        "validation_factory['Line Workers'] = (validation_factory['Line Workers']\n",
        "                                    .fillna(validation_factory['Line Workers']\n",
        "                                            .median()))\n",
        "validation_factory['Total Workers'] = (validation_factory['Total Workers']\n",
        "                                    .fillna(validation_factory['Total Workers']\n",
        "                                            .median()))"
      ],
      "execution_count": 0,
      "outputs": []
    },
    {
      "cell_type": "code",
      "metadata": {
        "id": "PPriio1vtUsF",
        "colab_type": "code",
        "colab": {
          "base_uri": "https://localhost:8080/",
          "height": 501
        },
        "outputId": "8b077a64-ec27-4857-883f-18a5a78a556a"
      },
      "source": [
        "# verification of filled null values\n",
        "print(train_factory.isnull().sum(),\n",
        "      test_factory.isnull().sum(),\n",
        "      validation_factory.isnull().sum()\n",
        "     )\n",
        "# no null values shown"
      ],
      "execution_count": 295,
      "outputs": [
        {
          "output_type": "stream",
          "text": [
            "Factory Name           0\n",
            "Factory Type           0\n",
            "Product Type           0\n",
            "Nike, Inc. Brand(s)    0\n",
            "Supplier Group         0\n",
            "Total Workers          0\n",
            "Line Workers           0\n",
            "% Female Workers       0\n",
            "% Migrant Workers      0\n",
            "dtype: int64 Factory Name           0\n",
            "Factory Type           0\n",
            "Product Type           0\n",
            "Nike, Inc. Brand(s)    0\n",
            "Supplier Group         0\n",
            "Total Workers          0\n",
            "Line Workers           0\n",
            "% Female Workers       0\n",
            "% Migrant Workers      0\n",
            "dtype: int64 Factory Name           0\n",
            "Factory Type           0\n",
            "Product Type           0\n",
            "Nike, Inc. Brand(s)    0\n",
            "Supplier Group         0\n",
            "Total Workers          0\n",
            "Line Workers           0\n",
            "% Female Workers       0\n",
            "% Migrant Workers      0\n",
            "dtype: int64\n"
          ],
          "name": "stdout"
        }
      ]
    },
    {
      "cell_type": "code",
      "metadata": {
        "id": "S8B8f69fta5y",
        "colab_type": "code",
        "colab": {
          "base_uri": "https://localhost:8080/",
          "height": 203
        },
        "outputId": "5b25f5e1-6a96-467c-a820-5dcdda19ba00"
      },
      "source": [
        "# further exploration on non-numeric features\n",
        "train_factory.describe(exclude = 'number')\n",
        "# value counts recommended 'Supplier Group' to evaulate further"
      ],
      "execution_count": 296,
      "outputs": [
        {
          "output_type": "execute_result",
          "data": {
            "text/html": [
              "<div>\n",
              "<style scoped>\n",
              "    .dataframe tbody tr th:only-of-type {\n",
              "        vertical-align: middle;\n",
              "    }\n",
              "\n",
              "    .dataframe tbody tr th {\n",
              "        vertical-align: top;\n",
              "    }\n",
              "\n",
              "    .dataframe thead th {\n",
              "        text-align: right;\n",
              "    }\n",
              "</style>\n",
              "<table border=\"1\" class=\"dataframe\">\n",
              "  <thead>\n",
              "    <tr style=\"text-align: right;\">\n",
              "      <th></th>\n",
              "      <th>Factory Name</th>\n",
              "      <th>Factory Type</th>\n",
              "      <th>Product Type</th>\n",
              "      <th>Nike, Inc. Brand(s)</th>\n",
              "      <th>Supplier Group</th>\n",
              "    </tr>\n",
              "  </thead>\n",
              "  <tbody>\n",
              "    <tr>\n",
              "      <th>count</th>\n",
              "      <td>358</td>\n",
              "      <td>358</td>\n",
              "      <td>358</td>\n",
              "      <td>358</td>\n",
              "      <td>358</td>\n",
              "    </tr>\n",
              "    <tr>\n",
              "      <th>unique</th>\n",
              "      <td>353</td>\n",
              "      <td>3</td>\n",
              "      <td>4</td>\n",
              "      <td>7</td>\n",
              "      <td>148</td>\n",
              "    </tr>\n",
              "    <tr>\n",
              "      <th>top</th>\n",
              "      <td>NAN YANG GARMENT CO., LTD.</td>\n",
              "      <td>FINISHED GOODS</td>\n",
              "      <td>APPAREL</td>\n",
              "      <td>NIKE</td>\n",
              "      <td>NO SUPPLIER GROUP</td>\n",
              "    </tr>\n",
              "    <tr>\n",
              "      <th>freq</th>\n",
              "      <td>2</td>\n",
              "      <td>289</td>\n",
              "      <td>207</td>\n",
              "      <td>268</td>\n",
              "      <td>74</td>\n",
              "    </tr>\n",
              "  </tbody>\n",
              "</table>\n",
              "</div>"
            ],
            "text/plain": [
              "                      Factory Name  ...     Supplier Group\n",
              "count                          358  ...                358\n",
              "unique                         353  ...                148\n",
              "top     NAN YANG GARMENT CO., LTD.  ...  NO SUPPLIER GROUP\n",
              "freq                             2  ...                 74\n",
              "\n",
              "[4 rows x 5 columns]"
            ]
          },
          "metadata": {
            "tags": []
          },
          "execution_count": 296
        }
      ]
    },
    {
      "cell_type": "code",
      "metadata": {
        "id": "YAc_35LIunCj",
        "colab_type": "code",
        "colab": {
          "base_uri": "https://localhost:8080/",
          "height": 1000
        },
        "outputId": "b8be7c1e-35d8-4e68-e7b4-649bbda9f4e7"
      },
      "source": [
        "train_factory['Supplier Group'].value_counts()\n",
        "# no known unintelligible data, all strings"
      ],
      "execution_count": 297,
      "outputs": [
        {
          "output_type": "execute_result",
          "data": {
            "text/plain": [
              "NO SUPPLIER GROUP                                                 74\n",
              "MAS HOLDINGS                                                      18\n",
              "YESIM                                                             10\n",
              "DASS                                                               7\n",
              "HI TECH                                                            7\n",
              "FENG TAY                                                           6\n",
              "TAI WAH                                                            6\n",
              "NICE APPAREL                                                       6\n",
              "SPORTSWEAR COMPANY SPA                                             6\n",
              "COOPERSHOES                                                        4\n",
              "NAN YANG                                                           4\n",
              "DELTA                                                              4\n",
              "RAY FABRICS (CHUNRIH RD)                                           4\n",
              "GILDAN                                                             4\n",
              "STYLE TEXTILE                                                      4\n",
              "HONG SENG                                                          4\n",
              "NEW HOLLAND                                                        4\n",
              "SHOETOWN                                                           4\n",
              "TLC                                                                4\n",
              "CHANGSHIN                                                          4\n",
              "POU CHEN                                                           4\n",
              "TEGRA                                                              4\n",
              "ANIGER                                                             3\n",
              "TAEKWANG                                                           3\n",
              "MILTEKS                                                            3\n",
              "EVEREST                                                            3\n",
              "LITTLE KING INDUSTRIES CO. LTD.                                    3\n",
              "CHUAN CHENG                                                        3\n",
              "PETTENATI                                                          3\n",
              "TUNG MUNG                                                          3\n",
              "                                                                  ..\n",
              "DER WILL                                                           1\n",
              "DYNAMIC                                                            1\n",
              "BLUE STAR                                                          1\n",
              "SELF MAGLIERIA                                                     1\n",
              "PT PANTJA                                                          1\n",
              "LI CHENG                                                           1\n",
              "CHINGLUH                                                           1\n",
              "SILVERSTAR                                                         1\n",
              "FJORD                                                              1\n",
              "FLEXTRONICS                                                        1\n",
              "RAMATEX                                                            1\n",
              "OREGON SCREEN IMPRESSIONS                                          1\n",
              "POVOLO                                                             1\n",
              "ATOMS                                                              1\n",
              "GB LIGHT                                                           1\n",
              "PONY LEATHER                                                       1\n",
              "MOGAE                                                              1\n",
              "GREEN TEXTILES                                                     1\n",
              "RJ LIEBE ATHLETIC LETTERING CO.                                    1\n",
              "BUMCHANG DOORI                                                     1\n",
              "PT PANCAPRIMA                                                      1\n",
              "HAT WORLD INC. DBA LIDS TEAM SPORTS A DIVISION OF GENESCO, INC     1\n",
              "RIPON                                                              1\n",
              "JOY TEXTILE                                                        1\n",
              "TOYAMA SPORTS                                                      1\n",
              "FRAMA Y SAGO, S.L.                                                 1\n",
              "EAGLE NICE                                                         1\n",
              "SP APPAREL                                                         1\n",
              "FOREST LEATHER                                                     1\n",
              "EUROCAP                                                            1\n",
              "Name: Supplier Group, Length: 148, dtype: int64"
            ]
          },
          "metadata": {
            "tags": []
          },
          "execution_count": 297
        }
      ]
    },
    {
      "cell_type": "code",
      "metadata": {
        "id": "OlVWgFzivKFo",
        "colab_type": "code",
        "colab": {
          "base_uri": "https://localhost:8080/",
          "height": 336
        },
        "outputId": "d5509dd9-b89c-4d59-d524-a5f972d77fe6"
      },
      "source": [
        "# evaluation of full feature train df header\n",
        "train_factory.head()"
      ],
      "execution_count": 298,
      "outputs": [
        {
          "output_type": "execute_result",
          "data": {
            "text/html": [
              "<div>\n",
              "<style scoped>\n",
              "    .dataframe tbody tr th:only-of-type {\n",
              "        vertical-align: middle;\n",
              "    }\n",
              "\n",
              "    .dataframe tbody tr th {\n",
              "        vertical-align: top;\n",
              "    }\n",
              "\n",
              "    .dataframe thead th {\n",
              "        text-align: right;\n",
              "    }\n",
              "</style>\n",
              "<table border=\"1\" class=\"dataframe\">\n",
              "  <thead>\n",
              "    <tr style=\"text-align: right;\">\n",
              "      <th></th>\n",
              "      <th>Factory Name</th>\n",
              "      <th>Factory Type</th>\n",
              "      <th>Product Type</th>\n",
              "      <th>Nike, Inc. Brand(s)</th>\n",
              "      <th>Supplier Group</th>\n",
              "      <th>Total Workers</th>\n",
              "      <th>Line Workers</th>\n",
              "      <th>% Female Workers</th>\n",
              "      <th>% Migrant Workers</th>\n",
              "    </tr>\n",
              "  </thead>\n",
              "  <tbody>\n",
              "    <tr>\n",
              "      <th>0</th>\n",
              "      <td>A &amp; K DESIGNS, INC.</td>\n",
              "      <td>FINISHED GOODS</td>\n",
              "      <td>APPAREL</td>\n",
              "      <td>NIKE</td>\n",
              "      <td>A &amp; K DESIGNS</td>\n",
              "      <td>104.0</td>\n",
              "      <td>90.0</td>\n",
              "      <td>64.0</td>\n",
              "      <td>0.0</td>\n",
              "    </tr>\n",
              "    <tr>\n",
              "      <th>2</th>\n",
              "      <td>ACABADOS Y SERIGRAFIA, SA (ACSA)</td>\n",
              "      <td>FINISHED GOODS</td>\n",
              "      <td>APPAREL</td>\n",
              "      <td>HURLEY</td>\n",
              "      <td>NO SUPPLIER GROUP</td>\n",
              "      <td>140.0</td>\n",
              "      <td>130.0</td>\n",
              "      <td>31.0</td>\n",
              "      <td>0.0</td>\n",
              "    </tr>\n",
              "    <tr>\n",
              "      <th>5</th>\n",
              "      <td>AIRTEX</td>\n",
              "      <td>FINISHED GOODS</td>\n",
              "      <td>EQUIPMENT</td>\n",
              "      <td>NIKE</td>\n",
              "      <td>STX, LLC</td>\n",
              "      <td>72.0</td>\n",
              "      <td>46.0</td>\n",
              "      <td>69.0</td>\n",
              "      <td>0.0</td>\n",
              "    </tr>\n",
              "    <tr>\n",
              "      <th>6</th>\n",
              "      <td>AJARA TEXTILE</td>\n",
              "      <td>FINISHED GOODS</td>\n",
              "      <td>APPAREL</td>\n",
              "      <td>NIKE</td>\n",
              "      <td>MILTEKS</td>\n",
              "      <td>1202.0</td>\n",
              "      <td>1106.0</td>\n",
              "      <td>98.0</td>\n",
              "      <td>0.0</td>\n",
              "    </tr>\n",
              "    <tr>\n",
              "      <th>8</th>\n",
              "      <td>ALMAXTEX TEKSTIL</td>\n",
              "      <td>FINISHED GOODS</td>\n",
              "      <td>APPAREL</td>\n",
              "      <td>NIKE, CONVERSE</td>\n",
              "      <td>YESIM</td>\n",
              "      <td>2570.0</td>\n",
              "      <td>1750.0</td>\n",
              "      <td>52.0</td>\n",
              "      <td>0.0</td>\n",
              "    </tr>\n",
              "  </tbody>\n",
              "</table>\n",
              "</div>"
            ],
            "text/plain": [
              "                       Factory Name  ... % Migrant Workers\n",
              "0               A & K DESIGNS, INC.  ...               0.0\n",
              "2  ACABADOS Y SERIGRAFIA, SA (ACSA)  ...               0.0\n",
              "5                            AIRTEX  ...               0.0\n",
              "6                     AJARA TEXTILE  ...               0.0\n",
              "8                  ALMAXTEX TEKSTIL  ...               0.0\n",
              "\n",
              "[5 rows x 9 columns]"
            ]
          },
          "metadata": {
            "tags": []
          },
          "execution_count": 298
        }
      ]
    },
    {
      "cell_type": "markdown",
      "metadata": {
        "id": "cVnB7F4evvw9",
        "colab_type": "text"
      },
      "source": [
        "With data cleaned and null values imputed, process of cleaning is deemed complete. With missing values in features of 'Line Workers' and 'Total Workers', imputation of the median values of each respective feature was deemed admissable. Changes of data from string to float in '% Female Workers' and '% Migrant Workers' was minimal and only needed to remove '%' character and restore remaining numerical characters as a float data type."
      ]
    },
    {
      "cell_type": "markdown",
      "metadata": {
        "id": "fO15qAbMxA6H",
        "colab_type": "text"
      },
      "source": [
        "Deemed appropriate by project manager, target vector has been selected as 'Factory Type'. Target vector will be removed from data sets and set as target for train, validation, and test matrix datasets."
      ]
    },
    {
      "cell_type": "code",
      "metadata": {
        "id": "1VTAIcg0vocT",
        "colab_type": "code",
        "colab": {}
      },
      "source": [
        "# setting y target vectors and X matrix data sets\n",
        "target = 'Factory Type'\n",
        "\n",
        "# train\n",
        "X_train_factory = train_factory.drop(columns = target)\n",
        "y_train_factory = train_factory[target]\n",
        "\n",
        "# validation\n",
        "X_validation_factory = validation_factory.drop(columns = target)\n",
        "y_validation_factory = validation_factory[target]\n",
        "\n",
        "# test\n",
        "X_test_factory = test_factory.drop(columns = target)\n",
        "y_test_factory = test_factory[target]"
      ],
      "execution_count": 0,
      "outputs": []
    },
    {
      "cell_type": "markdown",
      "metadata": {
        "id": "GFWTMMRjyzdY",
        "colab_type": "text"
      },
      "source": [
        "Code has been evaluated, cleaned, and set into matrices and target vectors. Code is deemed ready for model training, evaluation, and testing."
      ]
    },
    {
      "cell_type": "markdown",
      "metadata": {
        "id": "lcDkVEEqzMqm",
        "colab_type": "text"
      },
      "source": [
        "<h1><center><u>Model and Machine Learning Procedures"
      ]
    },
    {
      "cell_type": "markdown",
      "metadata": {
        "id": "6G8FalXyz38c",
        "colab_type": "text"
      },
      "source": [
        "Assigned to evaluate and iterate train data set and find classification of 'Factory Type' target and achieve accuracy score relative to validation test. After training iterations, use final model against test data and deliver metrics of accuracy, confusion matrix, and classification report.\n",
        "\n",
        "Additional analysis of partial dependence plots will be included to show relative relevance of data features signifying strongest features.\n",
        "\n",
        "Evaluation and examination of desired features will be provided to data collection team for review. Desired features are intuition insights by Machine Learning team to help enhance model fit and requested to be supplemented.\n",
        "\n",
        "Analysis will be sent to business intelligence for further evaluation and decision-making."
      ]
    },
    {
      "cell_type": "code",
      "metadata": {
        "id": "oAktiJlN3R1E",
        "colab_type": "code",
        "colab": {
          "base_uri": "https://localhost:8080/",
          "height": 469
        },
        "outputId": "c19c4033-b1b8-4501-f973-f7ee79f3eaf1"
      },
      "source": [
        "# install tools\n",
        "!pip install category_encoders eli5 pdpbox"
      ],
      "execution_count": 300,
      "outputs": [
        {
          "output_type": "stream",
          "text": [
            "Requirement already satisfied: category_encoders in /usr/local/lib/python3.6/dist-packages (2.0.0)\n",
            "Requirement already satisfied: eli5 in /usr/local/lib/python3.6/dist-packages (0.9.0)\n",
            "Requirement already satisfied: pdpbox in /usr/local/lib/python3.6/dist-packages (0.2.0)\n",
            "Requirement already satisfied: pandas>=0.21.1 in /usr/local/lib/python3.6/dist-packages (from category_encoders) (0.24.2)\n",
            "Requirement already satisfied: scikit-learn>=0.20.0 in /usr/local/lib/python3.6/dist-packages (from category_encoders) (0.21.2)\n",
            "Requirement already satisfied: patsy>=0.4.1 in /usr/local/lib/python3.6/dist-packages (from category_encoders) (0.5.1)\n",
            "Requirement already satisfied: numpy>=1.11.3 in /usr/local/lib/python3.6/dist-packages (from category_encoders) (1.16.4)\n",
            "Requirement already satisfied: scipy>=0.19.0 in /usr/local/lib/python3.6/dist-packages (from category_encoders) (1.3.0)\n",
            "Requirement already satisfied: statsmodels>=0.6.1 in /usr/local/lib/python3.6/dist-packages (from category_encoders) (0.10.0)\n",
            "Requirement already satisfied: six in /usr/local/lib/python3.6/dist-packages (from eli5) (1.12.0)\n",
            "Requirement already satisfied: attrs>16.0.0 in /usr/local/lib/python3.6/dist-packages (from eli5) (19.1.0)\n",
            "Requirement already satisfied: tabulate>=0.7.7 in /usr/local/lib/python3.6/dist-packages (from eli5) (0.8.3)\n",
            "Requirement already satisfied: graphviz in /usr/local/lib/python3.6/dist-packages (from eli5) (0.10.1)\n",
            "Requirement already satisfied: jinja2 in /usr/local/lib/python3.6/dist-packages (from eli5) (2.10.1)\n",
            "Requirement already satisfied: typing in /usr/local/lib/python3.6/dist-packages (from eli5) (3.7.4)\n",
            "Requirement already satisfied: matplotlib>=2.1.2 in /usr/local/lib/python3.6/dist-packages (from pdpbox) (3.0.3)\n",
            "Requirement already satisfied: psutil in /usr/local/lib/python3.6/dist-packages (from pdpbox) (5.4.8)\n",
            "Requirement already satisfied: joblib in /usr/local/lib/python3.6/dist-packages (from pdpbox) (0.13.2)\n",
            "Requirement already satisfied: pytz>=2011k in /usr/local/lib/python3.6/dist-packages (from pandas>=0.21.1->category_encoders) (2018.9)\n",
            "Requirement already satisfied: python-dateutil>=2.5.0 in /usr/local/lib/python3.6/dist-packages (from pandas>=0.21.1->category_encoders) (2.5.3)\n",
            "Requirement already satisfied: MarkupSafe>=0.23 in /usr/local/lib/python3.6/dist-packages (from jinja2->eli5) (1.1.1)\n",
            "Requirement already satisfied: pyparsing!=2.0.4,!=2.1.2,!=2.1.6,>=2.0.1 in /usr/local/lib/python3.6/dist-packages (from matplotlib>=2.1.2->pdpbox) (2.4.0)\n",
            "Requirement already satisfied: kiwisolver>=1.0.1 in /usr/local/lib/python3.6/dist-packages (from matplotlib>=2.1.2->pdpbox) (1.1.0)\n",
            "Requirement already satisfied: cycler>=0.10 in /usr/local/lib/python3.6/dist-packages (from matplotlib>=2.1.2->pdpbox) (0.10.0)\n",
            "Requirement already satisfied: setuptools in /usr/local/lib/python3.6/dist-packages (from kiwisolver>=1.0.1->matplotlib>=2.1.2->pdpbox) (41.0.1)\n"
          ],
          "name": "stdout"
        }
      ]
    },
    {
      "cell_type": "code",
      "metadata": {
        "id": "1GIWlyhKyzFm",
        "colab_type": "code",
        "colab": {}
      },
      "source": [
        "# import libraries/tools\n",
        "\n",
        "# python tools import\n",
        "import pandas as pd\n",
        "import numpy as np\n",
        "import matplotlib.pyplot as plt\n",
        "import seaborn as sns\n",
        "import category_encoders as ce\n",
        "\n",
        "# tvt import\n",
        "# data already split, no need for import\n",
        "# from sklearn.model_selection import train_test_split\n",
        "\n",
        "\n",
        "# model import, classifier models\n",
        "from sklearn.pipeline import make_pipeline\n",
        "from sklearn.ensemble import RandomForestClassifier\n",
        "from sklearn.tree import DecisionTreeClassifier\n",
        "from sklearn.neighbors import KNeighborsClassifier\n",
        "from xgboost import XGBClassifier\n",
        "\n",
        "# evaluation/metrics import\n",
        "from sklearn.metrics import (accuracy_score, confusion_matrix, log_loss,\n",
        "                             classification_report)\n",
        "from sklearn.model_selection import validation_curve\n",
        "from pdpbox.pdp import pdp_isolate, pdp_plot, pdp_interact, pdp_interact_plot"
      ],
      "execution_count": 0,
      "outputs": []
    },
    {
      "cell_type": "code",
      "metadata": {
        "id": "YTTjPf6a6Or7",
        "colab_type": "code",
        "colab": {}
      },
      "source": [
        "# read in data from previous stage\n",
        "\n",
        "# naming for transparency and data import\n",
        "# train\n",
        "X_train_factory = X_train_factory\n",
        "y_train_factory = y_train_factory\n",
        "\n",
        "# val\n",
        "X_validation_factory = X_validation_factory\n",
        "y_validation_factory = y_validation_factory\n",
        "\n",
        "# test\n",
        "X_test_factory = X_test_factory\n",
        "y_train_factory = y_train_factory\n",
        "\n",
        "\n",
        "# renaming for ease of use and iteration\n",
        "\n",
        "# train\n",
        "X_train = X_train_factory\n",
        "y_train = y_train_factory\n",
        "\n",
        "# val \n",
        "X_val = X_validation_factory\n",
        "y_val = y_validation_factory\n",
        "\n",
        "# test\n",
        "X_test = X_test_factory\n",
        "y_test = y_test_factory\n"
      ],
      "execution_count": 0,
      "outputs": []
    },
    {
      "cell_type": "code",
      "metadata": {
        "id": "T2LtVNoe8GyD",
        "colab_type": "code",
        "colab": {
          "base_uri": "https://localhost:8080/",
          "height": 35
        },
        "outputId": "0e0d9cde-abaa-4fec-aa9b-845c33b126d1"
      },
      "source": [
        "# evaluation of size of data sets\n",
        "\n",
        "print(X_train.shape, X_val.shape, X_test.shape)\n",
        "# all datasets show equal features and look to be set for tvt, not cv"
      ],
      "execution_count": 303,
      "outputs": [
        {
          "output_type": "stream",
          "text": [
            "(358, 8) (122, 8) (121, 8)\n"
          ],
          "name": "stdout"
        }
      ]
    },
    {
      "cell_type": "code",
      "metadata": {
        "id": "rcI3ir75LWDM",
        "colab_type": "code",
        "colab": {
          "base_uri": "https://localhost:8080/",
          "height": 447
        },
        "outputId": "00602612-8364-4b14-d559-196e133e869b"
      },
      "source": [
        "# analysis of data\n",
        "X_train.describe(include = 'all')"
      ],
      "execution_count": 304,
      "outputs": [
        {
          "output_type": "execute_result",
          "data": {
            "text/html": [
              "<div>\n",
              "<style scoped>\n",
              "    .dataframe tbody tr th:only-of-type {\n",
              "        vertical-align: middle;\n",
              "    }\n",
              "\n",
              "    .dataframe tbody tr th {\n",
              "        vertical-align: top;\n",
              "    }\n",
              "\n",
              "    .dataframe thead th {\n",
              "        text-align: right;\n",
              "    }\n",
              "</style>\n",
              "<table border=\"1\" class=\"dataframe\">\n",
              "  <thead>\n",
              "    <tr style=\"text-align: right;\">\n",
              "      <th></th>\n",
              "      <th>Factory Name</th>\n",
              "      <th>Product Type</th>\n",
              "      <th>Nike, Inc. Brand(s)</th>\n",
              "      <th>Supplier Group</th>\n",
              "      <th>Total Workers</th>\n",
              "      <th>Line Workers</th>\n",
              "      <th>% Female Workers</th>\n",
              "      <th>% Migrant Workers</th>\n",
              "    </tr>\n",
              "  </thead>\n",
              "  <tbody>\n",
              "    <tr>\n",
              "      <th>count</th>\n",
              "      <td>358</td>\n",
              "      <td>358</td>\n",
              "      <td>358</td>\n",
              "      <td>358</td>\n",
              "      <td>358.000000</td>\n",
              "      <td>358.000000</td>\n",
              "      <td>358.000000</td>\n",
              "      <td>358.000000</td>\n",
              "    </tr>\n",
              "    <tr>\n",
              "      <th>unique</th>\n",
              "      <td>353</td>\n",
              "      <td>4</td>\n",
              "      <td>7</td>\n",
              "      <td>148</td>\n",
              "      <td>NaN</td>\n",
              "      <td>NaN</td>\n",
              "      <td>NaN</td>\n",
              "      <td>NaN</td>\n",
              "    </tr>\n",
              "    <tr>\n",
              "      <th>top</th>\n",
              "      <td>NAN YANG GARMENT CO., LTD.</td>\n",
              "      <td>APPAREL</td>\n",
              "      <td>NIKE</td>\n",
              "      <td>NO SUPPLIER GROUP</td>\n",
              "      <td>NaN</td>\n",
              "      <td>NaN</td>\n",
              "      <td>NaN</td>\n",
              "      <td>NaN</td>\n",
              "    </tr>\n",
              "    <tr>\n",
              "      <th>freq</th>\n",
              "      <td>2</td>\n",
              "      <td>207</td>\n",
              "      <td>268</td>\n",
              "      <td>74</td>\n",
              "      <td>NaN</td>\n",
              "      <td>NaN</td>\n",
              "      <td>NaN</td>\n",
              "      <td>NaN</td>\n",
              "    </tr>\n",
              "    <tr>\n",
              "      <th>mean</th>\n",
              "      <td>NaN</td>\n",
              "      <td>NaN</td>\n",
              "      <td>NaN</td>\n",
              "      <td>NaN</td>\n",
              "      <td>1401.592179</td>\n",
              "      <td>1112.276536</td>\n",
              "      <td>53.290503</td>\n",
              "      <td>7.417318</td>\n",
              "    </tr>\n",
              "    <tr>\n",
              "      <th>std</th>\n",
              "      <td>NaN</td>\n",
              "      <td>NaN</td>\n",
              "      <td>NaN</td>\n",
              "      <td>NaN</td>\n",
              "      <td>2854.739408</td>\n",
              "      <td>2471.465627</td>\n",
              "      <td>29.700833</td>\n",
              "      <td>20.652387</td>\n",
              "    </tr>\n",
              "    <tr>\n",
              "      <th>min</th>\n",
              "      <td>NaN</td>\n",
              "      <td>NaN</td>\n",
              "      <td>NaN</td>\n",
              "      <td>NaN</td>\n",
              "      <td>0.000000</td>\n",
              "      <td>1.000000</td>\n",
              "      <td>0.000000</td>\n",
              "      <td>0.000000</td>\n",
              "    </tr>\n",
              "    <tr>\n",
              "      <th>25%</th>\n",
              "      <td>NaN</td>\n",
              "      <td>NaN</td>\n",
              "      <td>NaN</td>\n",
              "      <td>NaN</td>\n",
              "      <td>106.750000</td>\n",
              "      <td>85.250000</td>\n",
              "      <td>35.000000</td>\n",
              "      <td>0.000000</td>\n",
              "    </tr>\n",
              "    <tr>\n",
              "      <th>50%</th>\n",
              "      <td>NaN</td>\n",
              "      <td>NaN</td>\n",
              "      <td>NaN</td>\n",
              "      <td>NaN</td>\n",
              "      <td>499.000000</td>\n",
              "      <td>309.000000</td>\n",
              "      <td>60.000000</td>\n",
              "      <td>0.000000</td>\n",
              "    </tr>\n",
              "    <tr>\n",
              "      <th>75%</th>\n",
              "      <td>NaN</td>\n",
              "      <td>NaN</td>\n",
              "      <td>NaN</td>\n",
              "      <td>NaN</td>\n",
              "      <td>1334.500000</td>\n",
              "      <td>1035.750000</td>\n",
              "      <td>76.000000</td>\n",
              "      <td>0.575000</td>\n",
              "    </tr>\n",
              "    <tr>\n",
              "      <th>max</th>\n",
              "      <td>NaN</td>\n",
              "      <td>NaN</td>\n",
              "      <td>NaN</td>\n",
              "      <td>NaN</td>\n",
              "      <td>22666.000000</td>\n",
              "      <td>20527.000000</td>\n",
              "      <td>100.000000</td>\n",
              "      <td>98.800000</td>\n",
              "    </tr>\n",
              "  </tbody>\n",
              "</table>\n",
              "</div>"
            ],
            "text/plain": [
              "                      Factory Name  ... % Migrant Workers\n",
              "count                          358  ...        358.000000\n",
              "unique                         353  ...               NaN\n",
              "top     NAN YANG GARMENT CO., LTD.  ...               NaN\n",
              "freq                             2  ...               NaN\n",
              "mean                           NaN  ...          7.417318\n",
              "std                            NaN  ...         20.652387\n",
              "min                            NaN  ...          0.000000\n",
              "25%                            NaN  ...          0.000000\n",
              "50%                            NaN  ...          0.000000\n",
              "75%                            NaN  ...          0.575000\n",
              "max                            NaN  ...         98.800000\n",
              "\n",
              "[11 rows x 8 columns]"
            ]
          },
          "metadata": {
            "tags": []
          },
          "execution_count": 304
        }
      ]
    },
    {
      "cell_type": "markdown",
      "metadata": {
        "id": "XZQBo3AGLjXx",
        "colab_type": "text"
      },
      "source": [
        "Notice of high cardinality of 'Factory Name' and 'Supplier Group' to use Ordinal Encoding. Lower Cardinality of 'Product Type' and 'Nike, Inc. Brand(s)' which could use One Hot Encoding.\n"
      ]
    },
    {
      "cell_type": "markdown",
      "metadata": {
        "id": "Kpqe375ONtfl",
        "colab_type": "text"
      },
      "source": [
        "For first iteration, all given data is used. Random Forest with Ordinal Encoder. \n",
        "\n",
        "Methodology is to encode categorical values and use Random Forest Classification "
      ]
    },
    {
      "cell_type": "code",
      "metadata": {
        "id": "PiNBkdPEA57q",
        "colab_type": "code",
        "colab": {
          "base_uri": "https://localhost:8080/",
          "height": 294
        },
        "outputId": "7ce96082-f341-4cf3-9da1-a6126f3c5ce0"
      },
      "source": [
        "# Utilize pipeline for encoding and testing process\n",
        "pipeline = make_pipeline(\n",
        "    ce.OrdinalEncoder(), \n",
        "    RandomForestClassifier(n_estimators=1000, random_state=89, n_jobs=-1)\n",
        ")\n",
        "\n",
        "# Fit on train, score on val\n",
        "pipeline.fit(X_train, y_train)\n",
        "y_pred = pipeline.predict(X_val)\n",
        "print('Validation Accuracy', accuracy_score(y_val, y_pred))\n",
        "print('Confusion Matrix\\n', confusion_matrix(y_val, y_pred))\n",
        "print('Classification Report:\\n', classification_report(y_val, y_pred))"
      ],
      "execution_count": 305,
      "outputs": [
        {
          "output_type": "stream",
          "text": [
            "Validation Accuracy 0.9426229508196722\n",
            "Confusion Matrix\n",
            " [[98  0  0]\n",
            " [ 7  0  0]\n",
            " [ 0  0 17]]\n",
            "Classification Report:\n",
            "                              precision    recall  f1-score   support\n",
            "\n",
            "             FINISHED GOODS       0.93      1.00      0.97        98\n",
            "FINISHED GOODS - COMPONENTS       0.00      0.00      0.00         7\n",
            "                  MATERIALS       1.00      1.00      1.00        17\n",
            "\n",
            "                   accuracy                           0.94       122\n",
            "                  macro avg       0.64      0.67      0.66       122\n",
            "               weighted avg       0.89      0.94      0.91       122\n",
            "\n"
          ],
          "name": "stdout"
        }
      ]
    },
    {
      "cell_type": "markdown",
      "metadata": {
        "id": "348S8cYvRL8f",
        "colab_type": "text"
      },
      "source": [
        "Validation Accuracy is high. Confusion matrix signifies that model misclassified secondary classifier 'FINISHED GOODS - COMPONENTS' as first classifier 'FINISHED GOODS'. Precision and recall score are 0 for second classifier. Begin investigation into representative data. "
      ]
    },
    {
      "cell_type": "code",
      "metadata": {
        "id": "4UMan4uzP810",
        "colab_type": "code",
        "colab": {
          "base_uri": "https://localhost:8080/",
          "height": 155
        },
        "outputId": "89063f36-cc41-4753-9f9a-fbc1103eae47"
      },
      "source": [
        "print(y_train.value_counts(normalize = True))\n",
        "y_val.value_counts(normalize = True)\n",
        "# both target vectors from train and val data sets have similar representation\n",
        "# accuracy will be high, focus on confusion matrix and precision\n",
        "# also consider overfitting problem"
      ],
      "execution_count": 306,
      "outputs": [
        {
          "output_type": "stream",
          "text": [
            "FINISHED GOODS                 0.807263\n",
            "MATERIALS                      0.131285\n",
            "FINISHED GOODS - COMPONENTS    0.061453\n",
            "Name: Factory Type, dtype: float64\n"
          ],
          "name": "stdout"
        },
        {
          "output_type": "execute_result",
          "data": {
            "text/plain": [
              "FINISHED GOODS                 0.803279\n",
              "MATERIALS                      0.139344\n",
              "FINISHED GOODS - COMPONENTS    0.057377\n",
              "Name: Factory Type, dtype: float64"
            ]
          },
          "metadata": {
            "tags": []
          },
          "execution_count": 306
        }
      ]
    },
    {
      "cell_type": "markdown",
      "metadata": {
        "id": "uhSf8dxIxH5F",
        "colab_type": "text"
      },
      "source": [
        "With equal represented data, accuracy to train data could be skewed and needs to be representatively underfit so as to not train directly to train or val data and can be used on test data when appropriate"
      ]
    },
    {
      "cell_type": "code",
      "metadata": {
        "id": "0SddTNCeWVib",
        "colab_type": "code",
        "colab": {
          "base_uri": "https://localhost:8080/",
          "height": 294
        },
        "outputId": "75c028b0-942e-40a7-95bb-ccd1471286b5"
      },
      "source": [
        "# utilize alternate model to decrease accuracy score from overfitting\n",
        "pipeline = make_pipeline(\n",
        "    ce.OrdinalEncoder(), \n",
        "    DecisionTreeClassifier(random_state=89)\n",
        ")\n",
        "\n",
        "# Fit on train, score on val\n",
        "pipeline.fit(X_train, y_train)\n",
        "y_pred = pipeline.predict(X_val)\n",
        "print('Validation Accuracy', accuracy_score(y_val, y_pred))\n",
        "print('Confusion Matrix\\n', confusion_matrix(y_val, y_pred))\n",
        "print('Classification Report:\\n', classification_report(y_val, y_pred))"
      ],
      "execution_count": 307,
      "outputs": [
        {
          "output_type": "stream",
          "text": [
            "Validation Accuracy 0.819672131147541\n",
            "Confusion Matrix\n",
            " [[83 15  0]\n",
            " [ 7  0  0]\n",
            " [ 0  0 17]]\n",
            "Classification Report:\n",
            "                              precision    recall  f1-score   support\n",
            "\n",
            "             FINISHED GOODS       0.92      0.85      0.88        98\n",
            "FINISHED GOODS - COMPONENTS       0.00      0.00      0.00         7\n",
            "                  MATERIALS       1.00      1.00      1.00        17\n",
            "\n",
            "                   accuracy                           0.82       122\n",
            "                  macro avg       0.64      0.62      0.63       122\n",
            "               weighted avg       0.88      0.82      0.85       122\n",
            "\n"
          ],
          "name": "stdout"
        }
      ]
    },
    {
      "cell_type": "markdown",
      "metadata": {
        "id": "Uv4axfGawJq7",
        "colab_type": "text"
      },
      "source": [
        "Using Decision Tree Classifier created lower accuracy for the model. It further created lower precision, recall, and f1-score for 'FINISHED GOODS', with no improvement in 'FINISHED GOODS - COMPONENTS'. 'MATERIALS' remains unchanged.\n",
        "\n",
        "Lower scores would signify a better fit or slight underfit to the data in order to be flexible to the test data.\n",
        "\n",
        "Following iteration to use K Neighbors Classifier, to be aware of possible overfit using process."
      ]
    },
    {
      "cell_type": "code",
      "metadata": {
        "id": "CmYIlrTEvoP0",
        "colab_type": "code",
        "colab": {
          "base_uri": "https://localhost:8080/",
          "height": 294
        },
        "outputId": "cf217aca-a1ca-406e-f3c2-2fab2d343fa7"
      },
      "source": [
        "pipeline = make_pipeline(\n",
        "    ce.OrdinalEncoder(), \n",
        "    KNeighborsClassifier()\n",
        ")\n",
        "\n",
        "# Fit on train, score on val\n",
        "pipeline.fit(X_train, y_train)\n",
        "y_pred = pipeline.predict(X_val)\n",
        "print('Validation Accuracy', accuracy_score(y_val, y_pred))\n",
        "print('Confusion Matrix\\n', confusion_matrix(y_val, y_pred))\n",
        "print('Classification Report:\\n', classification_report(y_val, y_pred))"
      ],
      "execution_count": 308,
      "outputs": [
        {
          "output_type": "stream",
          "text": [
            "Validation Accuracy 0.7950819672131147\n",
            "Confusion Matrix\n",
            " [[97  0  1]\n",
            " [ 6  0  1]\n",
            " [17  0  0]]\n",
            "Classification Report:\n",
            "                              precision    recall  f1-score   support\n",
            "\n",
            "             FINISHED GOODS       0.81      0.99      0.89        98\n",
            "FINISHED GOODS - COMPONENTS       0.00      0.00      0.00         7\n",
            "                  MATERIALS       0.00      0.00      0.00        17\n",
            "\n",
            "                   accuracy                           0.80       122\n",
            "                  macro avg       0.27      0.33      0.30       122\n",
            "               weighted avg       0.65      0.80      0.71       122\n",
            "\n"
          ],
          "name": "stdout"
        }
      ]
    },
    {
      "cell_type": "markdown",
      "metadata": {
        "id": "L1WypzqCzCSZ",
        "colab_type": "text"
      },
      "source": [
        "Using no weights on KNeighbors Classifier created lower accuracy score, while there was a rise in recall for 'FINISHED GOODS', 'MATERIALS' is now completely misclassified creating more confusion."
      ]
    },
    {
      "cell_type": "code",
      "metadata": {
        "id": "nSnEhp2V0Kvx",
        "colab_type": "code",
        "colab": {}
      },
      "source": [
        ""
      ],
      "execution_count": 0,
      "outputs": []
    }
  ]
}